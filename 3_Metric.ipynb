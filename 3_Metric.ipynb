{
 "cells": [
  {
   "cell_type": "markdown",
   "metadata": {},
   "source": [
    "# 3. Define Custom Loss and Metric"
   ]
  },
  {
   "cell_type": "code",
   "execution_count": 1,
   "metadata": {},
   "outputs": [
    {
     "name": "stdout",
     "output_type": "stream",
     "text": [
      "seed =  42\n",
      "libraries loaded\n"
     ]
    }
   ],
   "source": [
    "# Load usefull libraries and helper functions\n",
    "%run libs_and_utils"
   ]
  },
  {
   "cell_type": "code",
   "execution_count": 2,
   "metadata": {},
   "outputs": [
    {
     "name": "stdout",
     "output_type": "stream",
     "text": [
      "data_loaded\n"
     ]
    }
   ],
   "source": [
    "# Load data\n",
    "df_train = pd.read_csv(r'input/creditcard_train.csv')\n",
    "df_train.sort_values(by=['Time'], inplace=True)\n",
    "df_test = pd.read_csv(r'input/creditcard_test.csv')\n",
    "df_test.sort_values(by=['Time'], inplace=True)\n",
    "\n",
    "X_train = df_train.drop(columns='Class')\n",
    "y_train = df_train.Class\n",
    "X_test = df_test.drop(columns='Class')\n",
    "y_test = df_test.Class\n",
    "print('data_loaded')"
   ]
  },
  {
   "cell_type": "markdown",
   "metadata": {},
   "source": [
    "- Given the class imbalance ratio, we recommend measuring the accuracy using the Area Under the Precision-Recall Curve (AUPRC). Confusion matrix accuracy is not meaningful for unbalanced classification (copyied from competition) .\n",
    "\n",
    "Reviewing both precision and recall is useful in cases where there is an imbalance in the observations between the two classes. Specifically, there are many examples of no event (class 0) and only a few examples of an event (class 1).\n",
    "The reason for this is that typically the large number of class 0 examples means we are less interested in the skill of the model at predicting class 0 correctly, e.g. high true negatives.\n",
    "Key to the calculation of precision and recall is that the calculations do not make use of the true negatives. It is only concerned with the correct prediction of the minority class, class 1.\n",
    "A precision-recall curve is a plot of the precision (y-axis) and the recall (x-axis) for different thresholds, much like the ROC curve.\n",
    "A no-skill classifier is one that cannot discriminate between the classes and would predict a random class or a constant class in all cases. The no-skill line changes based on the distribution of the positive to negative classes. It is a horizontal line with the value of the ratio of positive cases in the dataset. For a balanced dataset, this is 0.5.\n",
    "\n",
    "- So key is to avoid using "
   ]
  },
  {
   "cell_type": "code",
   "execution_count": 3,
   "metadata": {},
   "outputs": [
    {
     "name": "stdout",
     "output_type": "stream",
     "text": [
      "[LightGBM] [Info] Number of positive: 364, number of negative: 199000\n",
      "[LightGBM] [Warning] Auto-choosing col-wise multi-threading, the overhead of testing was 0.040437 seconds.\n",
      "You can set `force_col_wise=true` to remove the overhead.\n",
      "[LightGBM] [Info] Total Bins 7650\n",
      "[LightGBM] [Info] Number of data points in the train set: 199364, number of used features: 30\n",
      "[LightGBM] [Info] [binary:BoostFromScore]: pavg=0.001826 -> initscore=-6.303906\n",
      "[LightGBM] [Info] Start training from score -6.303906\n",
      "Training until validation scores don't improve for 10 rounds\n",
      "[10]\ttrain's binary_logloss: 0.00385782\ttrain's auprc: 0.858745\ttest's binary_logloss: 0.00403302\ttest's auprc: 0.739755\n",
      "[20]\ttrain's binary_logloss: 0.00267778\ttrain's auprc: 0.89325\ttest's binary_logloss: 0.00320128\ttest's auprc: 0.768834\n",
      "[30]\ttrain's binary_logloss: 0.00208533\ttrain's auprc: 0.915102\ttest's binary_logloss: 0.00285899\ttest's auprc: 0.785269\n",
      "[40]\ttrain's binary_logloss: 0.00170859\ttrain's auprc: 0.932348\ttest's binary_logloss: 0.00268898\ttest's auprc: 0.798246\n",
      "[50]\ttrain's binary_logloss: 0.00143374\ttrain's auprc: 0.947029\ttest's binary_logloss: 0.00261628\ttest's auprc: 0.804958\n",
      "[60]\ttrain's binary_logloss: 0.00121321\ttrain's auprc: 0.960405\ttest's binary_logloss: 0.00256112\ttest's auprc: 0.80869\n",
      "[70]\ttrain's binary_logloss: 0.00103301\ttrain's auprc: 0.971343\ttest's binary_logloss: 0.0025437\ttest's auprc: 0.809159\n",
      "[80]\ttrain's binary_logloss: 0.000888619\ttrain's auprc: 0.980354\ttest's binary_logloss: 0.00253103\ttest's auprc: 0.810687\n",
      "[90]\ttrain's binary_logloss: 0.000761448\ttrain's auprc: 0.987381\ttest's binary_logloss: 0.00253977\ttest's auprc: 0.811226\n",
      "Early stopping, best iteration is:\n",
      "[81]\ttrain's binary_logloss: 0.000875982\ttrain's auprc: 0.981029\ttest's binary_logloss: 0.0025283\ttest's auprc: 0.811444\n",
      "Wall time: 13.3 s\n"
     ]
    }
   ],
   "source": [
    "%%time\n",
    "# use custom metric optimization function\n",
    "LGBM_custom_metric(X_train, X_test, y_train, y_test, auprc_loss, num_boost_round=100, early_stopping_rounds=10, lambda_l2=10, verbose_eval=10)"
   ]
  },
  {
   "cell_type": "markdown",
   "metadata": {},
   "source": [
    "## Use Cross-Validation"
   ]
  },
  {
   "cell_type": "code",
   "execution_count": 4,
   "metadata": {},
   "outputs": [
    {
     "name": "stdout",
     "output_type": "stream",
     "text": [
      "[LightGBM] [Info] Number of positive: 291, number of negative: 159200\n",
      "[LightGBM] [Warning] Auto-choosing col-wise multi-threading, the overhead of testing was 0.033018 seconds.\n",
      "You can set `force_col_wise=true` to remove the overhead.\n",
      "[LightGBM] [Info] Total Bins 7650\n",
      "[LightGBM] [Info] Number of data points in the train set: 159491, number of used features: 30\n",
      "[LightGBM] [Info] Number of positive: 291, number of negative: 159200\n",
      "[LightGBM] [Warning] Auto-choosing col-wise multi-threading, the overhead of testing was 0.033290 seconds.\n",
      "You can set `force_col_wise=true` to remove the overhead.\n",
      "[LightGBM] [Info] Total Bins 7650\n",
      "[LightGBM] [Info] Number of data points in the train set: 159491, number of used features: 30\n",
      "[LightGBM] [Info] Number of positive: 291, number of negative: 159200\n",
      "[LightGBM] [Warning] Auto-choosing col-wise multi-threading, the overhead of testing was 0.032667 seconds.\n",
      "You can set `force_col_wise=true` to remove the overhead.\n",
      "[LightGBM] [Info] Total Bins 7650\n",
      "[LightGBM] [Info] Number of data points in the train set: 159491, number of used features: 30\n",
      "[LightGBM] [Info] Number of positive: 291, number of negative: 159200\n",
      "[LightGBM] [Warning] Auto-choosing col-wise multi-threading, the overhead of testing was 0.031368 seconds.\n",
      "You can set `force_col_wise=true` to remove the overhead.\n",
      "[LightGBM] [Info] Total Bins 7650\n",
      "[LightGBM] [Info] Number of data points in the train set: 159491, number of used features: 30\n",
      "[LightGBM] [Info] Number of positive: 292, number of negative: 159200\n",
      "[LightGBM] [Warning] Auto-choosing col-wise multi-threading, the overhead of testing was 0.034304 seconds.\n",
      "You can set `force_col_wise=true` to remove the overhead.\n",
      "[LightGBM] [Info] Total Bins 7650\n",
      "[LightGBM] [Info] Number of data points in the train set: 159492, number of used features: 30\n",
      "[LightGBM] [Info] [binary:BoostFromScore]: pavg=0.001825 -> initscore=-6.304593\n",
      "[LightGBM] [Info] Start training from score -6.304593\n",
      "[LightGBM] [Info] [binary:BoostFromScore]: pavg=0.001825 -> initscore=-6.304593\n",
      "[LightGBM] [Info] Start training from score -6.304593\n",
      "[LightGBM] [Info] [binary:BoostFromScore]: pavg=0.001825 -> initscore=-6.304593\n",
      "[LightGBM] [Info] Start training from score -6.304593\n",
      "[LightGBM] [Info] [binary:BoostFromScore]: pavg=0.001825 -> initscore=-6.304593\n",
      "[LightGBM] [Info] Start training from score -6.304593\n",
      "[LightGBM] [Info] [binary:BoostFromScore]: pavg=0.001831 -> initscore=-6.301163\n",
      "[LightGBM] [Info] Start training from score -6.301163\n",
      "[10]\tcv_agg's binary_logloss: 0.00436389 + 0.000199217\tcv_agg's auprc: 0.802111 + 0.0296545\n",
      "[20]\tcv_agg's binary_logloss: 0.00341619 + 0.000226684\tcv_agg's auprc: 0.824816 + 0.0298439\n",
      "[30]\tcv_agg's binary_logloss: 0.00304453 + 0.000276201\tcv_agg's auprc: 0.83896 + 0.0300552\n",
      "[40]\tcv_agg's binary_logloss: 0.00288367 + 0.000304221\tcv_agg's auprc: 0.846124 + 0.031196\n",
      "[50]\tcv_agg's binary_logloss: 0.00278387 + 0.00031163\tcv_agg's auprc: 0.852753 + 0.0281069\n",
      "[60]\tcv_agg's binary_logloss: 0.00273049 + 0.000332639\tcv_agg's auprc: 0.854512 + 0.0279635\n",
      "[70]\tcv_agg's binary_logloss: 0.00271991 + 0.000355405\tcv_agg's auprc: 0.854986 + 0.0286099\n",
      "[80]\tcv_agg's binary_logloss: 0.00270099 + 0.000366632\tcv_agg's auprc: 0.85536 + 0.0287994\n",
      "[90]\tcv_agg's binary_logloss: 0.00269858 + 0.000373079\tcv_agg's auprc: 0.856836 + 0.0279424\n",
      "[100]\tcv_agg's binary_logloss: 0.00269923 + 0.000380111\tcv_agg's auprc: 0.857225 + 0.0278492\n",
      "auprc train =  0.9922624305634867\n"
     ]
    },
    {
     "data": {
      "image/png": "[encoded data removed]",
      "text/plain": [
       "<Figure size 360x360 with 1 Axes>"
      ]
     },
     "metadata": {
      "needs_background": "light"
     },
     "output_type": "display_data"
    },
    {
     "name": "stdout",
     "output_type": "stream",
     "text": [
      "auprc test =  0.8126808522985152\n"
     ]
    },
    {
     "data": {
      "image/png": "[encoded data removed]",
      "text/plain": [
       "<Figure size 360x360 with 1 Axes>"
      ]
     },
     "metadata": {
      "needs_background": "light"
     },
     "output_type": "display_data"
    },
    {
     "name": "stdout",
     "output_type": "stream",
     "text": [
      "Wall time: 19.7 s\n"
     ]
    }
   ],
   "source": [
    "%%time\n",
    "eval_hist = LGBM_custom_metric_cv(X_train, X_test, y_train, y_test, auprc_loss, nfold= 5, num_boost_round=100, early_stopping_rounds=None, lambda_l2=10, verbose_eval=10)\n",
    "plot_from_eval_hist(eval_hist, X_train, X_test, y_train, y_test)"
   ]
  },
  {
   "cell_type": "markdown",
   "metadata": {},
   "source": [
    "## Now add under/oversampling"
   ]
  },
  {
   "cell_type": "code",
   "execution_count": 5,
   "metadata": {},
   "outputs": [],
   "source": [
    "# Undersample randomly\n",
    "#alpha_under = 0.01\n",
    "#under = RandomUnderSampler(random_state=42, sampling_strategy=alpha_under)\n",
    "\n",
    "# Oversampl using SMOTE\n",
    "alpha_over = 0.1\n",
    "over = SMOTE(random_state=42, sampling_strategy=alpha_over)"
   ]
  },
  {
   "cell_type": "code",
   "execution_count": 6,
   "metadata": {},
   "outputs": [
    {
     "name": "stdout",
     "output_type": "stream",
     "text": [
      "(199364, 30) (199364,) 364\n",
      "(218900, 30) (218900,) 19900\n"
     ]
    }
   ],
   "source": [
    "print(X_train.shape, y_train.shape, sum(y_train==1))\n",
    "\n",
    "#X_train_res, y_train_res = under.fit_resample(X_train, y_train)\n",
    "#print(X_train_res.shape, y_train_res.shape, sum(y_train_res==1))\n",
    "\n",
    "X_train_res, y_train_res = over.fit_resample(X_train, y_train)\n",
    "print(X_train_res.shape, y_train_res.shape, sum(y_train_res==1))"
   ]
  },
  {
   "cell_type": "code",
   "execution_count": 7,
   "metadata": {},
   "outputs": [
    {
     "name": "stdout",
     "output_type": "stream",
     "text": [
      "[LightGBM] [Info] Number of positive: 15920, number of negative: 159200\n",
      "[LightGBM] [Warning] Auto-choosing col-wise multi-threading, the overhead of testing was 0.039053 seconds.\n",
      "You can set `force_col_wise=true` to remove the overhead.\n",
      "[LightGBM] [Info] Total Bins 7650\n",
      "[LightGBM] [Info] Number of data points in the train set: 175120, number of used features: 30\n",
      "[LightGBM] [Info] Number of positive: 15920, number of negative: 159200\n",
      "[LightGBM] [Warning] Auto-choosing col-wise multi-threading, the overhead of testing was 0.034953 seconds.\n",
      "You can set `force_col_wise=true` to remove the overhead.\n",
      "[LightGBM] [Info] Total Bins 7650\n",
      "[LightGBM] [Info] Number of data points in the train set: 175120, number of used features: 30\n",
      "[LightGBM] [Info] Number of positive: 15920, number of negative: 159200\n",
      "[LightGBM] [Warning] Auto-choosing col-wise multi-threading, the overhead of testing was 0.033616 seconds.\n",
      "You can set `force_col_wise=true` to remove the overhead.\n",
      "[LightGBM] [Info] Total Bins 7650\n",
      "[LightGBM] [Info] Number of data points in the train set: 175120, number of used features: 30\n",
      "[LightGBM] [Info] Number of positive: 15920, number of negative: 159200\n",
      "[LightGBM] [Warning] Auto-choosing col-wise multi-threading, the overhead of testing was 0.034443 seconds.\n",
      "You can set `force_col_wise=true` to remove the overhead.\n",
      "[LightGBM] [Info] Total Bins 7650\n",
      "[LightGBM] [Info] Number of data points in the train set: 175120, number of used features: 30\n",
      "[LightGBM] [Info] Number of positive: 15920, number of negative: 159200\n",
      "[LightGBM] [Warning] Auto-choosing col-wise multi-threading, the overhead of testing was 0.037837 seconds.\n",
      "You can set `force_col_wise=true` to remove the overhead.\n",
      "[LightGBM] [Info] Total Bins 7650\n",
      "[LightGBM] [Info] Number of data points in the train set: 175120, number of used features: 30\n",
      "[LightGBM] [Info] [binary:BoostFromScore]: pavg=0.090909 -> initscore=-2.302585\n",
      "[LightGBM] [Info] Start training from score -2.302585\n",
      "[LightGBM] [Info] [binary:BoostFromScore]: pavg=0.090909 -> initscore=-2.302585\n",
      "[LightGBM] [Info] Start training from score -2.302585\n",
      "[LightGBM] [Info] [binary:BoostFromScore]: pavg=0.090909 -> initscore=-2.302585\n",
      "[LightGBM] [Info] Start training from score -2.302585\n",
      "[LightGBM] [Info] [binary:BoostFromScore]: pavg=0.090909 -> initscore=-2.302585\n",
      "[LightGBM] [Info] Start training from score -2.302585\n",
      "[LightGBM] [Info] [binary:BoostFromScore]: pavg=0.090909 -> initscore=-2.302585\n",
      "[LightGBM] [Info] Start training from score -2.302585\n",
      "[10]\tcv_agg's binary_logloss: 0.0792101 + 0.000425588\tcv_agg's auprc: 0.985007 + 0.000819717\n",
      "[20]\tcv_agg's binary_logloss: 0.0380045 + 0.000509895\tcv_agg's auprc: 0.989901 + 0.00118696\n",
      "[30]\tcv_agg's binary_logloss: 0.0221928 + 0.000569486\tcv_agg's auprc: 0.9913 + 0.00458242\n",
      "[40]\tcv_agg's binary_logloss: 0.0148621 + 0.000634377\tcv_agg's auprc: 0.994739 + 0.00269836\n",
      "[50]\tcv_agg's binary_logloss: 0.0107196 + 0.000495604\tcv_agg's auprc: 0.997122 + 0.00140843\n",
      "[60]\tcv_agg's binary_logloss: 0.00818245 + 0.000456149\tcv_agg's auprc: 0.998427 + 0.000746855\n",
      "[70]\tcv_agg's binary_logloss: 0.00646754 + 0.000408491\tcv_agg's auprc: 0.999043 + 0.000457904\n",
      "[80]\tcv_agg's binary_logloss: 0.00527505 + 0.000367721\tcv_agg's auprc: 0.999292 + 0.000349996\n",
      "[90]\tcv_agg's binary_logloss: 0.00442112 + 0.000328941\tcv_agg's auprc: 0.999436 + 0.000268864\n",
      "[100]\tcv_agg's binary_logloss: 0.00379941 + 0.000291284\tcv_agg's auprc: 0.999514 + 0.000287535\n",
      "auprc train =  0.9847966241363411\n"
     ]
    },
    {
     "data": {
      "image/png": "[encoded data removed]",
      "text/plain": [
       "<Figure size 360x360 with 1 Axes>"
      ]
     },
     "metadata": {
      "needs_background": "light"
     },
     "output_type": "display_data"
    },
    {
     "name": "stdout",
     "output_type": "stream",
     "text": [
      "auprc test =  0.8154905477310663\n"
     ]
    },
    {
     "data": {
      "image/png": "[encoded data removed]",
      "text/plain": [
       "<Figure size 360x360 with 1 Axes>"
      ]
     },
     "metadata": {
      "needs_background": "light"
     },
     "output_type": "display_data"
    },
    {
     "name": "stdout",
     "output_type": "stream",
     "text": [
      "Wall time: 23.4 s\n"
     ]
    }
   ],
   "source": [
    "%%time\n",
    "eval_hist = LGBM_custom_metric_cv(X_train_res, X_test, y_train_res, y_test, auprc_loss, nfold=5, num_boost_round=100, early_stopping_rounds=None, lambda_l2=10, verbose_eval=10)\n",
    "plot_from_eval_hist(eval_hist, X_train, X_test, y_train, y_test)"
   ]
  },
  {
   "cell_type": "markdown",
   "metadata": {},
   "source": [
    "- As we see validation score is very different since we train on resampled train data and test on test data\n",
    "- SMOTE upsampling improves the score on test set"
   ]
  }
 ],
 "metadata": {
  "kernelspec": {
   "display_name": "Python 3",
   "language": "python",
   "name": "python3"
  },
  "language_info": {
   "codemirror_mode": {
    "name": "ipython",
    "version": 3
   },
   "file_extension": ".py",
   "mimetype": "text/x-python",
   "name": "python",
   "nbconvert_exporter": "python",
   "pygments_lexer": "ipython3",
   "version": "3.7.4"
  }
 },
 "nbformat": 4,
 "nbformat_minor": 4
}
